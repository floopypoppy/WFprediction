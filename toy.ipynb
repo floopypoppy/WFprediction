{
 "cells": [
  {
   "cell_type": "markdown",
   "metadata": {},
   "source": [
    "This is the main code for training a LSTM network and then saving the model, including some wrapper functions for pre-processing (mainly splitting) training data."
   ]
  },
  {
   "cell_type": "code",
   "execution_count": null,
   "metadata": {
    "scrolled": true
   },
   "outputs": [],
   "source": [
    "'''imports'''\n",
    "from __future__ import print_function\n",
    "from __future__ import division\n",
    "\n",
    "import keras, pickle\n",
    "import pandas as pd\n",
    "import numpy as np\n",
    "\n",
    "from astropy.io import fits\n",
    "from matplotlib import pyplot as plt\n",
    "\n",
    "from keras.models import Sequential, load_model\n",
    "from keras.optimizers import Adam\n",
    "from keras.callbacks import TerminateOnNaN, ReduceLROnPlateau, ModelCheckpoint, LearningRateScheduler\n",
    "from keras.layers.core import Dense, Activation, Dropout\n",
    "from keras.layers.recurrent import LSTM\n",
    "\n",
    "from sklearn.metrics import mean_squared_error as mse"
   ]
  },
  {
   "cell_type": "code",
   "execution_count": null,
   "metadata": {},
   "outputs": [],
   "source": [
    "def rmse(true, pred):\n",
    "    MSE = mse(true, pred)\n",
    "    return round(np.sqrt(MSE), 4)"
   ]
  },
  {
   "cell_type": "code",
   "execution_count": null,
   "metadata": {},
   "outputs": [],
   "source": [
    "'''load training data'''\n",
    "start_index = 0\n",
    "n_frame = 30\n",
    "xslos = fits.getdata('./datasets/trnslos_160k_open_withTT_gauss_0.1.fits')[:,start_index*72:(start_index+n_frame)*72]\n",
    "# xslos = allslos[:,:36].copy()\n",
    "# xslos = xslos.reshape((-1,n_frame*36))"
   ]
  },
  {
   "cell_type": "code",
   "execution_count": null,
   "metadata": {},
   "outputs": [],
   "source": [
    "def _split(data, dim, split_point):\n",
    "    \"\"\"\n",
    "    sub-function of train_test_split\n",
    "    \"\"\"\n",
    "    if dim == 0:\n",
    "        return (data[:split_point,:], data[split_point:,:])\n",
    "    elif dim == 1:\n",
    "        return (data[:,:split_point], data[:,split_point:])\n",
    "    else:\n",
    "        return (None, None)\n",
    "    \n",
    "def train_test_split(xslos, n_frame, test_ratio=0.0):  \n",
    "    \"\"\"\n",
    "    This splits the whole data array as (x_train, y_train) and (x_test, y_test)\n",
    "    \"\"\"\n",
    "    ntrn = int(round(xslos.shape[0] * (1 - test_ratio)))\n",
    "    nx = (n_frame-1) * 72\n",
    "    x, y = _split(xslos, 1, nx)\n",
    "    x_train, x_test = _split(x, 0, ntrn)\n",
    "    x_train = x_train.reshape((x_train.shape[0], n_frame-1, 72))\n",
    "    x_test = x_test.reshape((x_test.shape[0], n_frame-1, 72))\n",
    "    y_train, y_test = _split(y, 0, ntrn)\n",
    "    return (x_train, y_train), (x_test, y_test)"
   ]
  },
  {
   "cell_type": "code",
   "execution_count": null,
   "metadata": {},
   "outputs": [],
   "source": [
    "(x_train, y_train), (x_test, y_test) = train_test_split(xslos, n_frame)"
   ]
  },
  {
   "cell_type": "code",
   "execution_count": null,
   "metadata": {},
   "outputs": [],
   "source": [
    "'''build the model - which is not optimal'''\n",
    "in_out_neurons = 72  \n",
    "hidden_neurons = 72\n",
    "\n",
    "model = Sequential()\n",
    "model.add(LSTM(hidden_neurons, return_sequences=True,input_shape=(None, in_out_neurons)))\n",
    "model.add(LSTM(hidden_neurons, return_sequences=False))\n",
    "model.add(Dense(in_out_neurons, input_dim=hidden_neurons))\n",
    "model.compile(loss=\"mean_squared_error\", optimizer=Adam(lr=0.001)) # or rmsprop\n",
    "\n",
    "model.summary()"
   ]
  },
  {
   "cell_type": "code",
   "execution_count": null,
   "metadata": {
    "scrolled": true
   },
   "outputs": [],
   "source": [
    "'''training and saving the model'''\n",
    "terminator = TerminateOnNaN()\n",
    "lrreducer = ReduceLROnPlateau(verbose=1,factor=0.2,min_lr=1e-5)\n",
    "history = model.fit(x_train, y_train, \n",
    "          batch_size=128, \n",
    "          epochs=20, \n",
    "          validation_split=0.1, \n",
    "          callbacks=[terminator, lrreducer])\n",
    "print('Done!')\n",
    "\n",
    "file_name = '1ly_72_72_20_128_100_withTT(lr=0.001)_gauss_0.01'\n",
    "model.save('/home/xuewen/Dropbox/expout/'+file_name+'.h5')"
   ]
  }
 ],
 "metadata": {
  "kernelspec": {
   "display_name": "Python 2",
   "language": "python",
   "name": "python2"
  },
  "language_info": {
   "codemirror_mode": {
    "name": "ipython",
    "version": 2
   },
   "file_extension": ".py",
   "mimetype": "text/x-python",
   "name": "python",
   "nbconvert_exporter": "python",
   "pygments_lexer": "ipython2",
   "version": "2.7.13"
  }
 },
 "nbformat": 4,
 "nbformat_minor": 2
}
